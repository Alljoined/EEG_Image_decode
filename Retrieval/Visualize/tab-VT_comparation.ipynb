{
 "cells": [
  {
   "cell_type": "code",
   "execution_count": null,
   "metadata": {},
   "outputs": [],
   "source": [
    "import os\n",
    "import pandas as pd\n",
    "\n",
    "# Directory path containing the CSV files\n",
    "directory_path = '/home/ldy/Workspace/BrainAligning_retrieval/outputs/contrast/ATMS_classification_50'\n",
    "\n",
    "# Function to calculate the maximums of the metrics\n",
    "def calculate_maximums(file_path):\n",
    "    df = pd.read_csv(file_path)\n",
    "    maximums = {\n",
    "        'v2_acc': df['v2_acc'].max(),\n",
    "        'v4_acc': df['v4_acc'].max(),\n",
    "        'v10_acc': df['v10_acc'].max(),\n",
    "        'test_accuracy': df['test_accuracy'].max(),  # TOP1 accuracy\n",
    "        'top5_acc': df['top5_acc'].max()  # TOP5 accuracy\n",
    "    }\n",
    "    return maximums\n",
    "\n",
    "# Dictionary to store the results\n",
    "results = {}\n",
    "\n",
    "# Define the output file name\n",
    "output_file_name = 'subject_averages.csv'\n",
    "\n",
    "# Check if the output file already exists and skip it\n",
    "output_file_path = os.path.join(directory_path, output_file_name)\n",
    "if os.path.exists(output_file_path):\n",
    "    os.remove(output_file_path)\n",
    "\n",
    "# Iterate over each file in the directory\n",
    "for filename in os.listdir(directory_path):\n",
    "    if filename.endswith('.csv') and filename != output_file_name:\n",
    "        # Extract the method name from the filename\n",
    "        method_name = filename.split('_')[0]\n",
    "        file_path = os.path.join(directory_path, filename)\n",
    "        maximums = calculate_maximums(file_path)\n",
    "        \n",
    "        # Aggregate the results by method name\n",
    "        if method_name not in results:\n",
    "            results[method_name] = {metric: [] for metric in maximums}\n",
    "        for metric in maximums:\n",
    "            results[method_name][metric].append(maximums[metric])\n",
    "\n",
    "# Calculate the average for each method and metric\n",
    "averages = {method: {metric: sum(values) / len(values) for metric, values in metrics.items()}\n",
    "            for method, metrics in results.items()}\n",
    "\n",
    "# Sort the results by method name\n",
    "sorted_averages = dict(sorted(averages.items()))\n",
    "\n",
    "# Convert the sorted averages dictionary to a pandas DataFrame for easier CSV output\n",
    "averages_df = pd.DataFrame.from_dict(sorted_averages, orient='index')\n",
    "\n",
    "# You may want to include more descriptive column names here\n",
    "averages_df.columns = ['V2 Accuracy', 'V4 Accuracy', 'V10 Accuracy', 'Test Accuracy', 'Top5 Accuracy']\n",
    "\n",
    "# Save the DataFrame to a CSV file\n",
    "averages_df.to_csv(output_file_path, index_label='Method')\n",
    "\n",
    "print(f\"Averages saved to {output_file_path}\")"
   ]
  },
  {
   "cell_type": "code",
   "execution_count": 5,
   "metadata": {},
   "outputs": [
    {
     "name": "stdout",
     "output_type": "stream",
     "text": [
      "Maximums from /home/ldy/Workspace/BrainAligning_retrieval/outputs/contrast/ATMS_classification_50/sub-01/03-07_13-04/ATMS_classification_50_sub-01.csv: {'v2_acc': 0.775, 'v4_acc': 0.555, 'v10_acc': 0.36, 'test_accuracy': 0.065, 'top5_acc': 0.175, 'v50_acc': 0.15, 'v100_acc': 0.1, 'v50_top5_acc': 0.385, 'v100_top5_acc': 0.265}\n"
     ]
    }
   ],
   "source": [
    "file_path = '/home/ldy/Workspace/BrainAligning_retrieval/outputs/contrast/ATMS_classification_50/sub-01/03-07_13-04/ATMS_classification_50_sub-01.csv'\n",
    "\n",
    "maximums = calculate_maximums(file_path)\n",
    "print(f\"Maximums from {file_path}: {maximums}\")"
   ]
  },
  {
   "cell_type": "markdown",
   "metadata": {},
   "source": []
  },
  {
   "cell_type": "code",
   "execution_count": null,
   "metadata": {},
   "outputs": [],
   "source": []
  },
  {
   "cell_type": "code",
   "execution_count": 1,
   "metadata": {},
   "outputs": [
    {
     "name": "stdout",
     "output_type": "stream",
     "text": [
      "Averages saved to /home/ldy/Workspace/BrainAligning_retrieval/outputs/contrast/ATMS_50/subject_averages.csv\n"
     ]
    }
   ],
   "source": [
    "import os\n",
    "import pandas as pd\n",
    "from datetime import datetime\n",
    "\n",
    "def calculate_maximums(file_path):\n",
    "    df = pd.read_csv(file_path)\n",
    "    maximums = {\n",
    "        'v2_acc': df['v2_acc'].max(),\n",
    "        'v4_acc': df['v4_acc'].max(),\n",
    "        'v10_acc': df['v10_acc'].max(),\n",
    "        'test_accuracy': df['test_accuracy'].max(),\n",
    "        'top5_acc': df['top5_acc'].max(),\n",
    "        'v50_acc': df['v50_acc'].max(),\n",
    "        'v100_acc': df['v100_acc'].max(),\n",
    "        'v50_top5_acc': df['v50_top5_acc'].max(),\n",
    "        'v100_top5_acc': df['v100_top5_acc'].max()\n",
    "    }\n",
    "    return maximums\n",
    "\n",
    "def get_latest_directory(directories):\n",
    "    latest_dir = None\n",
    "    latest_time = None\n",
    "    for directory in directories:\n",
    "        try:\n",
    "            # Adjusted to match the 'MM-DD_HH-MM' format\n",
    "            directory_time = datetime.strptime(directory, \"%m-%d_%H-%M\")\n",
    "            if latest_time is None or directory_time > latest_time:\n",
    "                latest_time = directory_time\n",
    "                latest_dir = directory\n",
    "        except ValueError:\n",
    "            continue  # Ignore directories that do not match the expected format\n",
    "    return latest_dir\n",
    "\n",
    "base_directory_path = '/home/ldy/Workspace/BrainAligning_retrieval/outputs/contrast/ATMS_50'\n",
    "\n",
    "results = {}\n",
    "\n",
    "for subject_folder in os.listdir(base_directory_path):\n",
    "    subject_folder_path = os.path.join(base_directory_path, subject_folder)\n",
    "    if os.path.isdir(subject_folder_path):\n",
    "        time_directories = [d for d in os.listdir(subject_folder_path) if os.path.isdir(os.path.join(subject_folder_path, d))]\n",
    "        latest_directory = get_latest_directory(time_directories)\n",
    "        if latest_directory:\n",
    "            latest_directory_path = os.path.join(subject_folder_path, latest_directory)\n",
    "            for filename in os.listdir(latest_directory_path):\n",
    "                if filename.endswith('.csv'):\n",
    "                    method_name = filename.split('_')[0]\n",
    "                    file_path = os.path.join(latest_directory_path, filename)\n",
    "                    maximums = calculate_maximums(file_path)\n",
    "                    if method_name not in results:\n",
    "                        results[method_name] = {metric: [] for metric in maximums}\n",
    "                    for metric in maximums:\n",
    "                        results[method_name][metric].append(maximums[metric])\n",
    "\n",
    "averages = {method: {metric: sum(values) / len(values) for metric, values in metrics.items()} for method, metrics in results.items()}\n",
    "sorted_averages = dict(sorted(averages.items()))\n",
    "\n",
    "averages_df = pd.DataFrame.from_dict(sorted_averages, orient='index')\n",
    "averages_df.columns = ['V2 Accuracy', 'V4 Accuracy', 'V10 Accuracy', 'Test Accuracy', 'Top5 Accuracy', 'V50 Accuracy', 'V100 Accuracy', 'V50 Top5 Accuracy', 'V100 Top5 Accuracy']\n",
    "\n",
    "output_file_name = 'subject_averages.csv'\n",
    "output_file_path = os.path.join(base_directory_path, output_file_name)\n",
    "averages_df.to_csv(output_file_path, index_label='Method')\n",
    "\n",
    "print(f\"Averages saved to {output_file_path}\")"
   ]
  },
  {
   "cell_type": "code",
   "execution_count": 2,
   "metadata": {},
   "outputs": [
    {
     "name": "stdout",
     "output_type": "stream",
     "text": [
      "      V2 Accuracy  V4 Accuracy  V10 Accuracy  Test Accuracy  Top5 Accuracy  \\\n",
      "mean         97.4        91.95         80.35          30.75          63.15   \n",
      "std           NaN          NaN           NaN            NaN            NaN   \n",
      "min          97.4        91.95         80.35          30.75          63.15   \n",
      "25%          97.4        91.95         80.35          30.75          63.15   \n",
      "50%          97.4        91.95         80.35          30.75          63.15   \n",
      "75%          97.4        91.95         80.35          30.75          63.15   \n",
      "max          97.4        91.95         80.35          30.75          63.15   \n",
      "\n",
      "      V50 Accuracy  V100 Accuracy  V50 Top5 Accuracy  V100 Top5 Accuracy  \n",
      "mean         54.15          41.25              87.05               75.95  \n",
      "std            NaN            NaN                NaN                 NaN  \n",
      "min          54.15          41.25              87.05               75.95  \n",
      "25%          54.15          41.25              87.05               75.95  \n",
      "50%          54.15          41.25              87.05               75.95  \n",
      "75%          54.15          41.25              87.05               75.95  \n",
      "max          54.15          41.25              87.05               75.95  \n"
     ]
    }
   ],
   "source": [
    "import pandas as pd\n",
    "import matplotlib.pyplot as plt\n",
    "import numpy as np\n",
    "\n",
    "output_file_path = \"/home/ldy/Workspace/BrainAligning_retrieval/outputs/contrast/ATMS_50/subject_averages.csv\"\n",
    "\n",
    "df = pd.read_csv(output_file_path)\n",
    "\n",
    "metrics = df.describe().round(5).iloc[1:]*100  # Exclude the count row and round to two decimal places\n",
    "print(metrics)"
   ]
  },
  {
   "cell_type": "code",
   "execution_count": null,
   "metadata": {},
   "outputs": [],
   "source": []
  }
 ],
 "metadata": {
  "kernelspec": {
   "display_name": "Python 3",
   "language": "python",
   "name": "python3"
  },
  "language_info": {
   "codemirror_mode": {
    "name": "ipython",
    "version": 3
   },
   "file_extension": ".py",
   "mimetype": "text/x-python",
   "name": "python",
   "nbconvert_exporter": "python",
   "pygments_lexer": "ipython3",
   "version": "3.10.13"
  }
 },
 "nbformat": 4,
 "nbformat_minor": 2
}
